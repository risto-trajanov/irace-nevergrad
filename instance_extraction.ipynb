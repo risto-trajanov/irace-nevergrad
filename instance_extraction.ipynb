{
 "cells": [
  {
   "cell_type": "code",
   "execution_count": 1,
   "metadata": {},
   "outputs": [],
   "source": [
    "import pandas as pd"
   ]
  },
  {
   "cell_type": "code",
   "execution_count": 3,
   "metadata": {},
   "outputs": [
    {
     "name": "stderr",
     "output_type": "stream",
     "text": [
      "C:\\Users\\Risto\\AppData\\Roaming\\Python\\Python37\\site-packages\\ipykernel_launcher.py:1: FutureWarning: Your version of xlrd is 1.2.0. In xlrd >= 2.0, only the xls format is supported. As a result, the openpyxl engine will be used if it is installed and the engine argument is not specified. Install openpyxl instead.\n",
      "  \"\"\"Entry point for launching an IPython kernel.\n"
     ]
    }
   ],
   "source": [
    "df = pd.read_excel('./results_mean.xlsx')\n",
    "instances = pd.read_csv('./instances_all.txt', sep=' ', header=None)"
   ]
  },
  {
   "cell_type": "code",
   "execution_count": 4,
   "metadata": {},
   "outputs": [
    {
     "data": {
      "text/html": [
       "<div>\n",
       "<style scoped>\n",
       "    .dataframe tbody tr th:only-of-type {\n",
       "        vertical-align: middle;\n",
       "    }\n",
       "\n",
       "    .dataframe tbody tr th {\n",
       "        vertical-align: top;\n",
       "    }\n",
       "\n",
       "    .dataframe thead th {\n",
       "        text-align: right;\n",
       "    }\n",
       "</style>\n",
       "<table border=\"1\" class=\"dataframe\">\n",
       "  <thead>\n",
       "    <tr style=\"text-align: right;\">\n",
       "      <th></th>\n",
       "      <th>cluster</th>\n",
       "      <th>best_algorithms</th>\n",
       "    </tr>\n",
       "  </thead>\n",
       "  <tbody>\n",
       "    <tr>\n",
       "      <th>0</th>\n",
       "      <td>['2/12800', '50/12800']</td>\n",
       "      <td>['NaiveTBPSA', 'CMandAS2', 'NGOpt12H', 'ECMA',...</td>\n",
       "    </tr>\n",
       "    <tr>\n",
       "      <th>1</th>\n",
       "      <td>['10/12800', '10/200', '10/3200', '10/800']</td>\n",
       "      <td>['NGOpt12H', 'ChainMetaModelSQP', 'NGOptM12', ...</td>\n",
       "    </tr>\n",
       "    <tr>\n",
       "      <th>2</th>\n",
       "      <td>['10/50', '50/200', '50/3200', '50/50', '50/800']</td>\n",
       "      <td>['Cobyla', 'NGOptM12', 'NGOpt12H', 'Wombat', '...</td>\n",
       "    </tr>\n",
       "    <tr>\n",
       "      <th>3</th>\n",
       "      <td>['2/200', '2/3200', '2/50', '2/800']</td>\n",
       "      <td>['NGO', 'Cobyla', 'MetaModel', 'NGOpt10', 'NGO...</td>\n",
       "    </tr>\n",
       "  </tbody>\n",
       "</table>\n",
       "</div>"
      ],
      "text/plain": [
       "                                             cluster  \\\n",
       "0                            ['2/12800', '50/12800']   \n",
       "1        ['10/12800', '10/200', '10/3200', '10/800']   \n",
       "2  ['10/50', '50/200', '50/3200', '50/50', '50/800']   \n",
       "3               ['2/200', '2/3200', '2/50', '2/800']   \n",
       "\n",
       "                                     best_algorithms  \n",
       "0  ['NaiveTBPSA', 'CMandAS2', 'NGOpt12H', 'ECMA',...  \n",
       "1  ['NGOpt12H', 'ChainMetaModelSQP', 'NGOptM12', ...  \n",
       "2  ['Cobyla', 'NGOptM12', 'NGOpt12H', 'Wombat', '...  \n",
       "3  ['NGO', 'Cobyla', 'MetaModel', 'NGOpt10', 'NGO...  "
      ]
     },
     "execution_count": 4,
     "metadata": {},
     "output_type": "execute_result"
    }
   ],
   "source": [
    "df"
   ]
  },
  {
   "cell_type": "code",
   "execution_count": 5,
   "metadata": {},
   "outputs": [],
   "source": [
    "clusters = df.iloc[:,0]"
   ]
  },
  {
   "cell_type": "code",
   "execution_count": 6,
   "metadata": {},
   "outputs": [
    {
     "name": "stdout",
     "output_type": "stream",
     "text": [
      "2/12800,50/12800\n",
      "10/12800,10/200,10/3200,10/800\n",
      "10/50,50/200,50/3200,50/50,50/800\n",
      "2/200,2/3200,2/50,2/800\n"
     ]
    }
   ],
   "source": [
    "extract_dict = {}\n",
    "for i, cluster_str in enumerate(clusters):\n",
    "    cluster_str = cluster_str.replace('[', '').replace(']', '').replace(' ', '').replace('\\'', '')\n",
    "    print(cluster_str)\n",
    "    cluster_strs = cluster_str.split(',')\n",
    "    for cluster_str in cluster_strs:\n",
    "        cluster_split = cluster_str.split('/')\n",
    "        dimension = cluster_split[0]\n",
    "        budget = cluster_split[1]\n",
    "        if i in extract_dict:\n",
    "            cluster_array = extract_dict.get(i)\n",
    "            cluster_array.append((dimension, budget))\n",
    "            extract_dict[i] = cluster_array\n",
    "        else:\n",
    "            extract_dict[i] = [(dimension, budget)]"
   ]
  },
  {
   "cell_type": "code",
   "execution_count": 7,
   "metadata": {},
   "outputs": [
    {
     "data": {
      "text/plain": [
       "{0: [('2', '12800'), ('50', '12800')],\n",
       " 1: [('10', '12800'), ('10', '200'), ('10', '3200'), ('10', '800')],\n",
       " 2: [('10', '50'), ('50', '200'), ('50', '3200'), ('50', '50'), ('50', '800')],\n",
       " 3: [('2', '200'), ('2', '3200'), ('2', '50'), ('2', '800')]}"
      ]
     },
     "execution_count": 7,
     "metadata": {},
     "output_type": "execute_result"
    }
   ],
   "source": [
    "extract_dict"
   ]
  },
  {
   "cell_type": "code",
   "execution_count": 8,
   "metadata": {},
   "outputs": [],
   "source": [
    "instances.columns = ['benchmark', 'function', 'rotation', 'dimension', 'budget']"
   ]
  },
  {
   "cell_type": "code",
   "execution_count": 9,
   "metadata": {},
   "outputs": [
    {
     "data": {
      "text/html": [
       "<div>\n",
       "<style scoped>\n",
       "    .dataframe tbody tr th:only-of-type {\n",
       "        vertical-align: middle;\n",
       "    }\n",
       "\n",
       "    .dataframe tbody tr th {\n",
       "        vertical-align: top;\n",
       "    }\n",
       "\n",
       "    .dataframe thead th {\n",
       "        text-align: right;\n",
       "    }\n",
       "</style>\n",
       "<table border=\"1\" class=\"dataframe\">\n",
       "  <thead>\n",
       "    <tr style=\"text-align: right;\">\n",
       "      <th></th>\n",
       "      <th>benchmark</th>\n",
       "      <th>function</th>\n",
       "      <th>rotation</th>\n",
       "      <th>dimension</th>\n",
       "      <th>budget</th>\n",
       "    </tr>\n",
       "  </thead>\n",
       "  <tbody>\n",
       "    <tr>\n",
       "      <th>0</th>\n",
       "      <td>yabbob</td>\n",
       "      <td>--name=hm</td>\n",
       "      <td>--rotation=True</td>\n",
       "      <td>--d=2</td>\n",
       "      <td>--budget=50</td>\n",
       "    </tr>\n",
       "    <tr>\n",
       "      <th>1</th>\n",
       "      <td>yabbob</td>\n",
       "      <td>--name=hm</td>\n",
       "      <td>--rotation=True</td>\n",
       "      <td>--d=2</td>\n",
       "      <td>--budget=200</td>\n",
       "    </tr>\n",
       "    <tr>\n",
       "      <th>2</th>\n",
       "      <td>yabbob</td>\n",
       "      <td>--name=hm</td>\n",
       "      <td>--rotation=True</td>\n",
       "      <td>--d=2</td>\n",
       "      <td>--budget=800</td>\n",
       "    </tr>\n",
       "    <tr>\n",
       "      <th>3</th>\n",
       "      <td>yabbob</td>\n",
       "      <td>--name=hm</td>\n",
       "      <td>--rotation=True</td>\n",
       "      <td>--d=2</td>\n",
       "      <td>--budget=3200</td>\n",
       "    </tr>\n",
       "    <tr>\n",
       "      <th>4</th>\n",
       "      <td>yabbob</td>\n",
       "      <td>--name=hm</td>\n",
       "      <td>--rotation=True</td>\n",
       "      <td>--d=2</td>\n",
       "      <td>--budget=12800</td>\n",
       "    </tr>\n",
       "    <tr>\n",
       "      <th>...</th>\n",
       "      <td>...</td>\n",
       "      <td>...</td>\n",
       "      <td>...</td>\n",
       "      <td>...</td>\n",
       "      <td>...</td>\n",
       "    </tr>\n",
       "    <tr>\n",
       "      <th>2107</th>\n",
       "      <td>yahdbbob</td>\n",
       "      <td>--name=deceptivepath</td>\n",
       "      <td>--rotation=False</td>\n",
       "      <td>--d=3000</td>\n",
       "      <td>--budget=50</td>\n",
       "    </tr>\n",
       "    <tr>\n",
       "      <th>2108</th>\n",
       "      <td>yahdbbob</td>\n",
       "      <td>--name=deceptivepath</td>\n",
       "      <td>--rotation=False</td>\n",
       "      <td>--d=3000</td>\n",
       "      <td>--budget=200</td>\n",
       "    </tr>\n",
       "    <tr>\n",
       "      <th>2109</th>\n",
       "      <td>yahdbbob</td>\n",
       "      <td>--name=deceptivepath</td>\n",
       "      <td>--rotation=False</td>\n",
       "      <td>--d=3000</td>\n",
       "      <td>--budget=800</td>\n",
       "    </tr>\n",
       "    <tr>\n",
       "      <th>2110</th>\n",
       "      <td>yahdbbob</td>\n",
       "      <td>--name=deceptivepath</td>\n",
       "      <td>--rotation=False</td>\n",
       "      <td>--d=3000</td>\n",
       "      <td>--budget=3200</td>\n",
       "    </tr>\n",
       "    <tr>\n",
       "      <th>2111</th>\n",
       "      <td>yahdbbob</td>\n",
       "      <td>--name=deceptivepath</td>\n",
       "      <td>--rotation=False</td>\n",
       "      <td>--d=3000</td>\n",
       "      <td>--budget=12800</td>\n",
       "    </tr>\n",
       "  </tbody>\n",
       "</table>\n",
       "<p>2112 rows × 5 columns</p>\n",
       "</div>"
      ],
      "text/plain": [
       "     benchmark              function          rotation dimension  \\\n",
       "0       yabbob             --name=hm   --rotation=True     --d=2   \n",
       "1       yabbob             --name=hm   --rotation=True     --d=2   \n",
       "2       yabbob             --name=hm   --rotation=True     --d=2   \n",
       "3       yabbob             --name=hm   --rotation=True     --d=2   \n",
       "4       yabbob             --name=hm   --rotation=True     --d=2   \n",
       "...        ...                   ...               ...       ...   \n",
       "2107  yahdbbob  --name=deceptivepath  --rotation=False  --d=3000   \n",
       "2108  yahdbbob  --name=deceptivepath  --rotation=False  --d=3000   \n",
       "2109  yahdbbob  --name=deceptivepath  --rotation=False  --d=3000   \n",
       "2110  yahdbbob  --name=deceptivepath  --rotation=False  --d=3000   \n",
       "2111  yahdbbob  --name=deceptivepath  --rotation=False  --d=3000   \n",
       "\n",
       "              budget  \n",
       "0        --budget=50  \n",
       "1       --budget=200  \n",
       "2       --budget=800  \n",
       "3      --budget=3200  \n",
       "4     --budget=12800  \n",
       "...              ...  \n",
       "2107     --budget=50  \n",
       "2108    --budget=200  \n",
       "2109    --budget=800  \n",
       "2110   --budget=3200  \n",
       "2111  --budget=12800  \n",
       "\n",
       "[2112 rows x 5 columns]"
      ]
     },
     "execution_count": 9,
     "metadata": {},
     "output_type": "execute_result"
    }
   ],
   "source": [
    "instances"
   ]
  },
  {
   "cell_type": "code",
   "execution_count": 11,
   "metadata": {},
   "outputs": [],
   "source": [
    "dimension = 2\n",
    "budget = 50\n",
    "instances_req = instances[(instances['dimension'] == f'--d={dimension}') & (instances['budget'] == f'--budget={budget}')]"
   ]
  },
  {
   "cell_type": "code",
   "execution_count": 12,
   "metadata": {},
   "outputs": [],
   "source": [
    "for i, cluster_array in enumerate(extract_dict.values()):\n",
    "    functions = []\n",
    "    filename = f'instances_{i}.txt'\n",
    "    for dimension, budget in cluster_array:\n",
    "        instances_required = instances[(instances['dimension'] == f'--d={dimension}') & (instances['budget'] == f'--budget={budget}')]\n",
    "        with open(filename, 'a') as f:\n",
    "            for j, row in instances_required.iterrows():\n",
    "                f.write(f'{row[\"benchmark\"]} {row[\"function\"]} {row[\"rotation\"]} {row[\"dimension\"]} {row[\"budget\"]}\\n')"
   ]
  },
  {
   "cell_type": "code",
   "execution_count": null,
   "metadata": {},
   "outputs": [],
   "source": []
  }
 ],
 "metadata": {
  "interpreter": {
   "hash": "d3fa3caab118271f8a3189884439c7b0dfbcbe57523eec92bb2db85a1c4604b8"
  },
  "kernelspec": {
   "display_name": "Python 3.7.9 64-bit ('newEnv': conda)",
   "name": "python3"
  },
  "language_info": {
   "codemirror_mode": {
    "name": "ipython",
    "version": 3
   },
   "file_extension": ".py",
   "mimetype": "text/x-python",
   "name": "python",
   "nbconvert_exporter": "python",
   "pygments_lexer": "ipython3",
   "version": "3.7.9"
  },
  "orig_nbformat": 4
 },
 "nbformat": 4,
 "nbformat_minor": 2
}
