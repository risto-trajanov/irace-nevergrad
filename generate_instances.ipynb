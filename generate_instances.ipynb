{
 "cells": [
  {
   "cell_type": "code",
   "execution_count": 2,
   "metadata": {},
   "outputs": [
    {
     "name": "stderr",
     "output_type": "stream",
     "text": [
      "Detecting 1 CUDA device(s).\n"
     ]
    }
   ],
   "source": [
    "from nevergrad.benchmark.experiments import yabbob\n",
    "from nevergrad.benchmark.experiments import yabigbbob\n",
    "from nevergrad.benchmark.experiments import yasmallbbob\n",
    "from nevergrad.benchmark.experiments import yahdbbob"
   ]
  },
  {
   "cell_type": "code",
   "execution_count": 8,
   "metadata": {},
   "outputs": [],
   "source": [
    "file = './instances_small_10_50.txt'\n",
    "\n",
    "benchmarks = [\n",
    "        # yabbob, \n",
    "        yasmallbbob, \n",
    "        # yabigbbob, \n",
    "        # yahdbbob\n",
    "        ]\n",
    "\n",
    "names = [\n",
    "    \"hm\",\n",
    "    \"rastrigin\",\n",
    "    \"griewank\",\n",
    "    \"rosenbrock\",\n",
    "    \"ackley\",\n",
    "    \"lunacek\",\n",
    "    \"deceptivemultimodal\",\n",
    "    \"bucherastrigin\",\n",
    "    \"multipeak\",\n",
    "]\n",
    "names += [\"sphere\", \"doublelinearslope\", \"stepdoublelinearslope\"]\n",
    "names += [\"cigar\", \"altcigar\", \"ellipsoid\", \"altellipsoid\", \"stepellipsoid\", \"discus\", \"bentcigar\"]\n",
    "names += [\"deceptiveillcond\", \"deceptivemultimodal\", \"deceptivepath\"]"
   ]
  },
  {
   "cell_type": "code",
   "execution_count": 4,
   "metadata": {},
   "outputs": [],
   "source": [
    "small_dict = {}\n",
    "for name in names:\n",
    "    functions, functions_configurations, budgets = yasmallbbob(name=name)\n",
    "    small_dict[name] = [functions_configurations, budgets]"
   ]
  },
  {
   "cell_type": "code",
   "execution_count": 27,
   "metadata": {},
   "outputs": [],
   "source": [
    "for name, fu_bud in small_dict.items():\n",
    "    functions_configurations = fu_bud[0]\n",
    "    budgets = fu_bud[1]\n",
    "    for config in functions_configurations:\n",
    "        if config.get(\"block_dimensions\") in [10, 50]:\n",
    "            for budget in budgets:\n",
    "                for name_, _ in small_dict.items():\n",
    "                    with open(file=file, encoding = 'utf-8', mode='a') as f:\n",
    "                        f.write(f'yasmallbbob --name={name_} --rotation={config.get(\"rotation\")} --d={config.get(\"block_dimensions\")} --budget={budget}\\n')"
   ]
  },
  {
   "cell_type": "code",
   "execution_count": 33,
   "metadata": {},
   "outputs": [],
   "source": [
    "for benchmark in benchmarks:\n",
    "    for name in names:\n",
    "        functions, functions_configurations, budgets = benchmark(name=name)\n",
    "        for config in functions_configurations:\n",
    "            if config.get(\"block_dimensions\") in [10, 50]:\n",
    "                for budget in budgets:\n",
    "                    with open(file=file, encoding = 'utf-8', mode='a') as f:\n",
    "                        f.write(f'{benchmark.__name__} --name={name} --rotation={config.get(\"rotation\")} --d={config.get(\"block_dimensions\")} --budget={budget}\\n')"
   ]
  },
  {
   "cell_type": "code",
   "execution_count": 28,
   "metadata": {},
   "outputs": [],
   "source": [
    "uniqlines = set(open('./instances_small_10_50.txt').readlines())"
   ]
  },
  {
   "cell_type": "code",
   "execution_count": 32,
   "metadata": {},
   "outputs": [
    {
     "ename": "AttributeError",
     "evalue": "'NoneType' object has no attribute 'close'",
     "output_type": "error",
     "traceback": [
      "\u001b[1;31m---------------------------------------------------------------------------\u001b[0m",
      "\u001b[1;31mAttributeError\u001b[0m                            Traceback (most recent call last)",
      "\u001b[1;32m~\\AppData\\Local\\Temp\\ipykernel_27636\\3816733395.py\u001b[0m in \u001b[0;36m<module>\u001b[1;34m\u001b[0m\n\u001b[0;32m      1\u001b[0m \u001b[0mbar\u001b[0m \u001b[1;33m=\u001b[0m \u001b[0mopen\u001b[0m\u001b[1;33m(\u001b[0m\u001b[1;34m'./instances_small_10_50.txt'\u001b[0m\u001b[1;33m,\u001b[0m \u001b[1;34m'w'\u001b[0m\u001b[1;33m)\u001b[0m\u001b[1;33m.\u001b[0m\u001b[0mwritelines\u001b[0m\u001b[1;33m(\u001b[0m\u001b[0muniqlines\u001b[0m\u001b[1;33m)\u001b[0m\u001b[1;33m\u001b[0m\u001b[1;33m\u001b[0m\u001b[0m\n\u001b[0;32m      2\u001b[0m \u001b[1;33m\u001b[0m\u001b[0m\n\u001b[1;32m----> 3\u001b[1;33m \u001b[0mbar\u001b[0m\u001b[1;33m.\u001b[0m\u001b[0mclose\u001b[0m\u001b[1;33m(\u001b[0m\u001b[1;33m)\u001b[0m\u001b[1;33m\u001b[0m\u001b[1;33m\u001b[0m\u001b[0m\n\u001b[0m",
      "\u001b[1;31mAttributeError\u001b[0m: 'NoneType' object has no attribute 'close'"
     ]
    }
   ],
   "source": [
    "bar = open('./instances_small_10_50.txt', 'w').writelines(uniqlines)\n",
    "\n",
    "bar.close()"
   ]
  },
  {
   "cell_type": "code",
   "execution_count": 21,
   "metadata": {},
   "outputs": [],
   "source": [
    "import pandas as pd\n",
    "import numpy as np"
   ]
  },
  {
   "cell_type": "code",
   "execution_count": 15,
   "metadata": {},
   "outputs": [
    {
     "name": "stderr",
     "output_type": "stream",
     "text": [
      "Falling back to the 'python' engine because the 'c' engine does not support regex separators (separators > 1 char and different from '\\s+' are interpreted as regex); you can avoid this warning by specifying engine='python'.\n"
     ]
    }
   ],
   "source": [
    "df = pd.read_csv('./instances_small_10_50.txt', delimiter=' --', header=None)"
   ]
  },
  {
   "cell_type": "code",
   "execution_count": 17,
   "metadata": {},
   "outputs": [],
   "source": [
    "df.columns = ['benchmark', 'funct', 'rot', 'dim', 'budg']"
   ]
  },
  {
   "cell_type": "code",
   "execution_count": 37,
   "metadata": {},
   "outputs": [],
   "source": [
    "df_1 = df.sort_values(['budg', 'dim', 'rot'])"
   ]
  },
  {
   "cell_type": "code",
   "execution_count": 45,
   "metadata": {},
   "outputs": [],
   "source": [
    "with open('./instances_small_10_50.txt', 'w', encoding = 'utf-8') as f:\n",
    "    for rec_index, rec in df_1.iterrows():\n",
    "        f.write(f'{rec[\"benchmark\"]} --{rec[\"funct\"]} --{rec[\"rot\"]} --{rec[\"dim\"]} --{rec[\"budg\"]}\\n')"
   ]
  },
  {
   "cell_type": "code",
   "execution_count": 22,
   "metadata": {},
   "outputs": [],
   "source": [
    "out = (\n",
    "    df\n",
    "    .assign(mc_question=np.arange(len(df)) // 22) # add a column chunks every 3 rows into a \"question\"\n",
    "    .sort_values([\"mc_question\", \"funct\"], ascending=[True, False])\n",
    ")"
   ]
  },
  {
   "cell_type": "code",
   "execution_count": 23,
   "metadata": {},
   "outputs": [
    {
     "data": {
      "text/html": [
       "<div>\n",
       "<style scoped>\n",
       "    .dataframe tbody tr th:only-of-type {\n",
       "        vertical-align: middle;\n",
       "    }\n",
       "\n",
       "    .dataframe tbody tr th {\n",
       "        vertical-align: top;\n",
       "    }\n",
       "\n",
       "    .dataframe thead th {\n",
       "        text-align: right;\n",
       "    }\n",
       "</style>\n",
       "<table border=\"1\" class=\"dataframe\">\n",
       "  <thead>\n",
       "    <tr style=\"text-align: right;\">\n",
       "      <th></th>\n",
       "      <th>benchmark</th>\n",
       "      <th>funct</th>\n",
       "      <th>rot</th>\n",
       "      <th>dim</th>\n",
       "      <th>budg</th>\n",
       "      <th>mc_question</th>\n",
       "    </tr>\n",
       "  </thead>\n",
       "  <tbody>\n",
       "    <tr>\n",
       "      <th>12</th>\n",
       "      <td>yasmallbbob</td>\n",
       "      <td>name=rastrigin</td>\n",
       "      <td>rotation=True</td>\n",
       "      <td>d=10</td>\n",
       "      <td>budget=10</td>\n",
       "      <td>0</td>\n",
       "    </tr>\n",
       "    <tr>\n",
       "      <th>13</th>\n",
       "      <td>yasmallbbob</td>\n",
       "      <td>name=rastrigin</td>\n",
       "      <td>rotation=True</td>\n",
       "      <td>d=10</td>\n",
       "      <td>budget=20</td>\n",
       "      <td>0</td>\n",
       "    </tr>\n",
       "    <tr>\n",
       "      <th>14</th>\n",
       "      <td>yasmallbbob</td>\n",
       "      <td>name=rastrigin</td>\n",
       "      <td>rotation=True</td>\n",
       "      <td>d=10</td>\n",
       "      <td>budget=40</td>\n",
       "      <td>0</td>\n",
       "    </tr>\n",
       "    <tr>\n",
       "      <th>15</th>\n",
       "      <td>yasmallbbob</td>\n",
       "      <td>name=rastrigin</td>\n",
       "      <td>rotation=True</td>\n",
       "      <td>d=50</td>\n",
       "      <td>budget=10</td>\n",
       "      <td>0</td>\n",
       "    </tr>\n",
       "    <tr>\n",
       "      <th>16</th>\n",
       "      <td>yasmallbbob</td>\n",
       "      <td>name=rastrigin</td>\n",
       "      <td>rotation=True</td>\n",
       "      <td>d=50</td>\n",
       "      <td>budget=20</td>\n",
       "      <td>0</td>\n",
       "    </tr>\n",
       "    <tr>\n",
       "      <th>...</th>\n",
       "      <td>...</td>\n",
       "      <td>...</td>\n",
       "      <td>...</td>\n",
       "      <td>...</td>\n",
       "      <td>...</td>\n",
       "      <td>...</td>\n",
       "    </tr>\n",
       "    <tr>\n",
       "      <th>247</th>\n",
       "      <td>yasmallbbob</td>\n",
       "      <td>name=deceptivemultimodal</td>\n",
       "      <td>rotation=False</td>\n",
       "      <td>d=10</td>\n",
       "      <td>budget=20</td>\n",
       "      <td>11</td>\n",
       "    </tr>\n",
       "    <tr>\n",
       "      <th>248</th>\n",
       "      <td>yasmallbbob</td>\n",
       "      <td>name=deceptivemultimodal</td>\n",
       "      <td>rotation=False</td>\n",
       "      <td>d=10</td>\n",
       "      <td>budget=40</td>\n",
       "      <td>11</td>\n",
       "    </tr>\n",
       "    <tr>\n",
       "      <th>249</th>\n",
       "      <td>yasmallbbob</td>\n",
       "      <td>name=deceptivemultimodal</td>\n",
       "      <td>rotation=False</td>\n",
       "      <td>d=50</td>\n",
       "      <td>budget=10</td>\n",
       "      <td>11</td>\n",
       "    </tr>\n",
       "    <tr>\n",
       "      <th>250</th>\n",
       "      <td>yasmallbbob</td>\n",
       "      <td>name=deceptivemultimodal</td>\n",
       "      <td>rotation=False</td>\n",
       "      <td>d=50</td>\n",
       "      <td>budget=20</td>\n",
       "      <td>11</td>\n",
       "    </tr>\n",
       "    <tr>\n",
       "      <th>251</th>\n",
       "      <td>yasmallbbob</td>\n",
       "      <td>name=deceptivemultimodal</td>\n",
       "      <td>rotation=False</td>\n",
       "      <td>d=50</td>\n",
       "      <td>budget=40</td>\n",
       "      <td>11</td>\n",
       "    </tr>\n",
       "  </tbody>\n",
       "</table>\n",
       "<p>264 rows × 6 columns</p>\n",
       "</div>"
      ],
      "text/plain": [
       "       benchmark                     funct             rot   dim       budg  \\\n",
       "12   yasmallbbob            name=rastrigin   rotation=True  d=10  budget=10   \n",
       "13   yasmallbbob            name=rastrigin   rotation=True  d=10  budget=20   \n",
       "14   yasmallbbob            name=rastrigin   rotation=True  d=10  budget=40   \n",
       "15   yasmallbbob            name=rastrigin   rotation=True  d=50  budget=10   \n",
       "16   yasmallbbob            name=rastrigin   rotation=True  d=50  budget=20   \n",
       "..           ...                       ...             ...   ...        ...   \n",
       "247  yasmallbbob  name=deceptivemultimodal  rotation=False  d=10  budget=20   \n",
       "248  yasmallbbob  name=deceptivemultimodal  rotation=False  d=10  budget=40   \n",
       "249  yasmallbbob  name=deceptivemultimodal  rotation=False  d=50  budget=10   \n",
       "250  yasmallbbob  name=deceptivemultimodal  rotation=False  d=50  budget=20   \n",
       "251  yasmallbbob  name=deceptivemultimodal  rotation=False  d=50  budget=40   \n",
       "\n",
       "     mc_question  \n",
       "12             0  \n",
       "13             0  \n",
       "14             0  \n",
       "15             0  \n",
       "16             0  \n",
       "..           ...  \n",
       "247           11  \n",
       "248           11  \n",
       "249           11  \n",
       "250           11  \n",
       "251           11  \n",
       "\n",
       "[264 rows x 6 columns]"
      ]
     },
     "execution_count": 23,
     "metadata": {},
     "output_type": "execute_result"
    }
   ],
   "source": [
    "out"
   ]
  },
  {
   "cell_type": "code",
   "execution_count": null,
   "metadata": {},
   "outputs": [],
   "source": []
  }
 ],
 "metadata": {
  "interpreter": {
   "hash": "d3fa3caab118271f8a3189884439c7b0dfbcbe57523eec92bb2db85a1c4604b8"
  },
  "kernelspec": {
   "display_name": "Python 3.7.9 ('newEnv')",
   "language": "python",
   "name": "python3"
  },
  "language_info": {
   "codemirror_mode": {
    "name": "ipython",
    "version": 3
   },
   "file_extension": ".py",
   "mimetype": "text/x-python",
   "name": "python",
   "nbconvert_exporter": "python",
   "pygments_lexer": "ipython3",
   "version": "3.7.9"
  },
  "orig_nbformat": 4
 },
 "nbformat": 4,
 "nbformat_minor": 2
}
