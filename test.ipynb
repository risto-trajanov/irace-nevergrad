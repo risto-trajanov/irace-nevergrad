{
 "cells": [
  {
   "cell_type": "code",
   "execution_count": 1,
   "source": [
    "import nevergrad as ng"
   ],
   "outputs": [],
   "metadata": {}
  },
  {
   "cell_type": "code",
   "execution_count": 12,
   "source": [
    "from nevergrad.functions import ArtificialFunction\r\n",
    "from nevergrad.benchmark.xpbase import Experiment\r\n",
    "from nevergrad.benchmark import experiments\r\n",
    "from nevergrad.optimization.base import ConfiguredOptimizer\r\n",
    "from nevergrad.optimization.optimizerlib import *"
   ],
   "outputs": [
    {
     "output_type": "stream",
     "name": "stderr",
     "text": [
      "Detecting 1 CUDA device(s).\n"
     ]
    }
   ],
   "metadata": {}
  },
  {
   "cell_type": "code",
   "execution_count": 5,
   "source": [
    "MetaModel = ParametrizedMetaModel().set_name(\"MetaModel2\", register=True)"
   ],
   "outputs": [],
   "metadata": {}
  },
  {
   "cell_type": "code",
   "execution_count": 13,
   "source": [
    "MetaModelOnePlusOne = ParametrizedMetaModel(multivariate_optimizer=OnePlusOne).set_name(\r\n",
    "    \"MetaModelOnePlusOne2\", register=True\r\n",
    ")"
   ],
   "outputs": [],
   "metadata": {}
  },
  {
   "cell_type": "code",
   "execution_count": 16,
   "source": [
    "#yabbob --name=hm --rotation=False --d=2 --budget=12800\r\n",
    "parameters_function = {\r\n",
    "        'name': 'hm',\r\n",
    "        'rotation': False,\r\n",
    "        'd': 2\r\n",
    "    }\r\n",
    "    "
   ],
   "outputs": [],
   "metadata": {}
  },
  {
   "cell_type": "code",
   "execution_count": 17,
   "source": [
    "benchmark = 'yabbob'"
   ],
   "outputs": [],
   "metadata": {}
  },
  {
   "cell_type": "code",
   "execution_count": 18,
   "source": [
    "method = getattr(experiments, benchmark)\r\n",
    "artificial_function = method(options=parameters_function)"
   ],
   "outputs": [],
   "metadata": {}
  },
  {
   "cell_type": "code",
   "execution_count": 20,
   "source": [
    "experiment = Experiment(function=artificial_function, optimizer=MetaModel, budget=800, seed=2)\r\n",
    "experiment._run_with_error()"
   ],
   "outputs": [],
   "metadata": {}
  },
  {
   "cell_type": "code",
   "execution_count": 21,
   "source": [
    "print(experiment.result.get('loss'))"
   ],
   "outputs": [
    {
     "output_type": "stream",
     "name": "stdout",
     "text": [
      "7.200341408758749e-17\n"
     ]
    }
   ],
   "metadata": {}
  },
  {
   "cell_type": "code",
   "execution_count": null,
   "source": [],
   "outputs": [],
   "metadata": {}
  }
 ],
 "metadata": {
  "orig_nbformat": 4,
  "language_info": {
   "name": "python",
   "version": "3.7.9",
   "mimetype": "text/x-python",
   "codemirror_mode": {
    "name": "ipython",
    "version": 3
   },
   "pygments_lexer": "ipython3",
   "nbconvert_exporter": "python",
   "file_extension": ".py"
  },
  "kernelspec": {
   "name": "python3",
   "display_name": "Python 3.7.9 64-bit ('newEnv': conda)"
  },
  "interpreter": {
   "hash": "d3fa3caab118271f8a3189884439c7b0dfbcbe57523eec92bb2db85a1c4604b8"
  }
 },
 "nbformat": 4,
 "nbformat_minor": 2
}