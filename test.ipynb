{
 "cells": [
  {
   "cell_type": "code",
   "execution_count": 1,
   "metadata": {},
   "outputs": [],
   "source": [
    "import nevergrad as ng\n",
    "from scipy.optimize import minimize"
   ]
  },
  {
   "cell_type": "code",
   "execution_count": 2,
   "metadata": {},
   "outputs": [
    {
     "name": "stderr",
     "output_type": "stream",
     "text": [
      "Detecting 1 CUDA device(s).\n"
     ]
    }
   ],
   "source": [
    "from nevergrad.functions import ArtificialFunction\n",
    "from nevergrad.benchmark.xpbase import Experiment\n",
    "from nevergrad.benchmark import experiments\n",
    "from nevergrad.optimization.base import ConfiguredOptimizer\n",
    "from nevergrad.optimization.optimizerlib import *\n",
    "from nevergrad.optimization.recastlib import ScipyOptimizer"
   ]
  },
  {
   "cell_type": "code",
   "execution_count": 13,
   "metadata": {},
   "outputs": [],
   "source": [
    "optim_class = eval(\"OnePlusOne\")"
   ]
  },
  {
   "cell_type": "code",
   "execution_count": 16,
   "metadata": {},
   "outputs": [],
   "source": [
    "MetaModel = ParametrizedMetaModel(multivariate_optimizer=optim_class).set_name(\"MetaModel1212\", register=True)"
   ]
  },
  {
   "cell_type": "code",
   "execution_count": 18,
   "metadata": {},
   "outputs": [],
   "source": [
    "MetaModelOnePlusOne = ParametrizedMetaModel(multivariate_optimizer=OnePlusOne).set_name(\n",
    "    \"MetaModelOnePlusOne1212\", register=True\n",
    ")"
   ]
  },
  {
   "cell_type": "code",
   "execution_count": 3,
   "metadata": {},
   "outputs": [],
   "source": [
    "#yabbob --name=hm --rotation=False --d=2 --budget=12800\n",
    "parameters_function = {\n",
    "        'name': 'hm',\n",
    "        'rotation': False,\n",
    "        'd': 2\n",
    "    }\n",
    "    "
   ]
  },
  {
   "cell_type": "code",
   "execution_count": 4,
   "metadata": {},
   "outputs": [],
   "source": [
    "benchmark = 'yabbob'"
   ]
  },
  {
   "cell_type": "code",
   "execution_count": 5,
   "metadata": {},
   "outputs": [],
   "source": [
    "method = getattr(experiments, benchmark)\n",
    "artificial_function = method(options=parameters_function)"
   ]
  },
  {
   "cell_type": "code",
   "execution_count": 6,
   "metadata": {},
   "outputs": [],
   "source": [
    "optimizer = ScipyOptimizer(method='COBYLA', options={'rhobeg':0.5}, tol=0.0002)"
   ]
  },
  {
   "cell_type": "code",
   "execution_count": 7,
   "metadata": {},
   "outputs": [],
   "source": [
    "experiment = Experiment(function=artificial_function, optimizer=optimizer, budget=800, seed=263162679)\n",
    "experiment._run_with_error()"
   ]
  },
  {
   "cell_type": "code",
   "execution_count": 8,
   "metadata": {},
   "outputs": [
    {
     "data": {
      "text/plain": [
       "Instance of ScipyOptimizer(method='COBYLA', options={'rhobeg': 0.5}, tol=0.0002)(parametrization=, budget=800, num_workers=1)"
      ]
     },
     "execution_count": 8,
     "metadata": {},
     "output_type": "execute_result"
    }
   ],
   "source": [
    "experiment._optimizer"
   ]
  },
  {
   "cell_type": "code",
   "execution_count": 9,
   "metadata": {},
   "outputs": [
    {
     "name": "stdout",
     "output_type": "stream",
     "text": [
      "0.00021891805734800614\n"
     ]
    }
   ],
   "source": [
    "print(experiment.result.get('loss'))"
   ]
  },
  {
   "cell_type": "code",
   "execution_count": null,
   "metadata": {},
   "outputs": [],
   "source": [
    "# 0.009930829054213507"
   ]
  }
 ],
 "metadata": {
  "interpreter": {
   "hash": "d3fa3caab118271f8a3189884439c7b0dfbcbe57523eec92bb2db85a1c4604b8"
  },
  "kernelspec": {
   "display_name": "Python 3.7.9 64-bit ('newEnv': conda)",
   "name": "python3"
  },
  "language_info": {
   "codemirror_mode": {
    "name": "ipython",
    "version": 3
   },
   "file_extension": ".py",
   "mimetype": "text/x-python",
   "name": "python",
   "nbconvert_exporter": "python",
   "pygments_lexer": "ipython3",
   "version": "3.7.9"
  },
  "orig_nbformat": 4
 },
 "nbformat": 4,
 "nbformat_minor": 2
}
